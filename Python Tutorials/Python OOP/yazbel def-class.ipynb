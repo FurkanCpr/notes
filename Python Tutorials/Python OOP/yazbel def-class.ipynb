{
 "cells": [
  {
   "cell_type": "code",
   "execution_count": 2,
   "metadata": {},
   "outputs": [
    {
     "data": {
      "text/plain": [
       "8"
      ]
     },
     "execution_count": 2,
     "metadata": {},
     "output_type": "execute_result"
    }
   ],
   "source": [
    "def islem_yap(x = 5, y = 6):  # x ve y parametlerine değer girilmiş\n",
    "    x = 2\n",
    "    return x + y\n",
    "islem_yap()\n",
    "\n"
   ]
  },
  {
   "cell_type": "code",
   "execution_count": 3,
   "metadata": {},
   "outputs": [
    {
     "data": {
      "text/plain": [
       "24"
      ]
     },
     "execution_count": 3,
     "metadata": {},
     "output_type": "execute_result"
    }
   ],
   "source": [
    "def islem_yap(x = 5, y = 6):\n",
    "    x = 2\n",
    "    return x + y\n",
    "islem_yap(10,22)\n",
    "# Fonksiyon çağırıldığında x = 2 ile değerlenen değişken argümandaki değerden sonra olduğu\n",
    "# için değiştirildi."
   ]
  },
  {
   "cell_type": "code",
   "execution_count": 37,
   "metadata": {},
   "outputs": [],
   "source": [
    "def islem_yap(x = 5, y = 6):\n",
    "    pass\n",
    "islem_yap()"
   ]
  },
  {
   "cell_type": "code",
   "execution_count": 38,
   "metadata": {},
   "outputs": [],
   "source": [
    "def islem_yap(x = 5, y = 6):\n",
    "   \n",
    "    return \n",
    "islem_yap()"
   ]
  },
  {
   "cell_type": "code",
   "execution_count": 39,
   "metadata": {},
   "outputs": [
    {
     "data": {
      "text/plain": [
       "17"
      ]
     },
     "execution_count": 39,
     "metadata": {},
     "output_type": "execute_result"
    }
   ],
   "source": [
    "def islem_yap(x = 5, y = 6):\n",
    "   \n",
    "    return x + y*2\n",
    "islem_yap()"
   ]
  },
  {
   "cell_type": "code",
   "execution_count": 41,
   "metadata": {},
   "outputs": [
    {
     "data": {
      "text/plain": [
       "2"
      ]
     },
     "execution_count": 41,
     "metadata": {},
     "output_type": "execute_result"
    }
   ],
   "source": [
    "def islem_yap(x = 5, y = 6):\n",
    "    a = 2\n",
    "    return a\n",
    "islem_yap()"
   ]
  },
  {
   "cell_type": "code",
   "execution_count": 44,
   "metadata": {},
   "outputs": [
    {
     "data": {
      "text/plain": [
       "35"
      ]
     },
     "execution_count": 44,
     "metadata": {},
     "output_type": "execute_result"
    }
   ],
   "source": [
    "def islem_yap(x = 5, y = 6):\n",
    "    (a,b) = (10,25)\n",
    "    return a + b\n",
    "islem_yap()"
   ]
  },
  {
   "cell_type": "code",
   "execution_count": 45,
   "metadata": {},
   "outputs": [
    {
     "data": {
      "text/plain": [
       "(10, 6)"
      ]
     },
     "execution_count": 45,
     "metadata": {},
     "output_type": "execute_result"
    }
   ],
   "source": [
    "def islem_yap(x = 5, y = 6):\n",
    "    (a,b) = (10,25)\n",
    "    return a , y\n",
    "islem_yap()"
   ]
  },
  {
   "cell_type": "code",
   "execution_count": 54,
   "metadata": {},
   "outputs": [
    {
     "data": {
      "text/plain": [
       "(35, 5, 6, 25, -15)"
      ]
     },
     "execution_count": 54,
     "metadata": {},
     "output_type": "execute_result"
    }
   ],
   "source": [
    "def islem_yap(x = 5, y = 6):\n",
    "    (a,b) = (10,25)\n",
    "    return a + b, x, y, b, a-b\n",
    "islem_yap()"
   ]
  },
  {
   "cell_type": "code",
   "execution_count": 76,
   "metadata": {},
   "outputs": [
    {
     "ename": "NameError",
     "evalue": "name 'y' is not defined",
     "output_type": "error",
     "traceback": [
      "\u001b[0;31m---------------------------------------------------------------------------\u001b[0m",
      "\u001b[0;31mNameError\u001b[0m                                 Traceback (most recent call last)",
      "\u001b[0;32m<ipython-input-76-30adf323b1e5>\u001b[0m in \u001b[0;36m<module>\u001b[0;34m()\u001b[0m\n\u001b[1;32m      3\u001b[0m     \u001b[0my\u001b[0m \u001b[0;34m=\u001b[0m \u001b[0;36m6\u001b[0m\u001b[0;34m\u001b[0m\u001b[0m\n\u001b[1;32m      4\u001b[0m     \u001b[0;32mreturn\u001b[0m \u001b[0my\u001b[0m\u001b[0;34m\u001b[0m\u001b[0m\n\u001b[0;32m----> 5\u001b[0;31m \u001b[0mislem_yap\u001b[0m\u001b[0;34m(\u001b[0m\u001b[0mx\u001b[0m\u001b[0;34m,\u001b[0m\u001b[0my\u001b[0m\u001b[0;34m)\u001b[0m\u001b[0;34m\u001b[0m\u001b[0m\n\u001b[0m\u001b[1;32m      6\u001b[0m \u001b[0;34m\u001b[0m\u001b[0m\n\u001b[1;32m      7\u001b[0m \u001b[0;31m# Fonksiyon parametrelerine\u001b[0m\u001b[0;34m\u001b[0m\u001b[0;34m\u001b[0m\u001b[0m\n",
      "\u001b[0;31mNameError\u001b[0m: name 'y' is not defined"
     ]
    }
   ],
   "source": [
    "def islem_yap(x,y):\n",
    "    x = 5\n",
    "    y = 6\n",
    "    return y\n",
    "islem_yap(x,y)\n",
    "\n",
    "# Fonksiyon parametrelerine değer vermezsek hata verir bunu önlemek için çağırdığımız\n",
    "# fonksiyona girilen parametre değişkeni kadar argüman girmeliyiz."
   ]
  },
  {
   "cell_type": "code",
   "execution_count": null,
   "metadata": {},
   "outputs": [],
   "source": []
  },
  {
   "cell_type": "code",
   "execution_count": 1,
   "metadata": {},
   "outputs": [
    {
     "data": {
      "text/plain": [
       "(6, 30, 0.8333333333333334)"
      ]
     },
     "execution_count": 1,
     "metadata": {},
     "output_type": "execute_result"
    }
   ],
   "source": [
    "def islem_yap(x,y):\n",
    "    x = 5\n",
    "    y = 6\n",
    "    return y, x*y, x/y\n",
    "islem_yap(3,5)"
   ]
  },
  {
   "cell_type": "code",
   "execution_count": 17,
   "metadata": {},
   "outputs": [
    {
     "data": {
      "text/plain": [
       "{'s'}"
      ]
     },
     "execution_count": 17,
     "metadata": {},
     "output_type": "execute_result"
    }
   ],
   "source": [
    "a = 5\n",
    "def foo():\n",
    "    if a == 5:\n",
    "        return {'s'}   # return if in returnudur. Eğer if lojik1 olursa returnler.\n",
    "foo()"
   ]
  },
  {
   "cell_type": "code",
   "execution_count": 19,
   "metadata": {},
   "outputs": [
    {
     "name": "stdout",
     "output_type": "stream",
     "text": [
      "Merhaba:  (3, 'b')\n"
     ]
    }
   ],
   "source": [
    "# Fonksiyonların parametrelerine değer vermeden işlem gerçekleştiremezsin. Ya en başta \n",
    "# verilmeli ya da argüman kısmında string, int tarzı verilerle değişkenlere değer verilmeli.\n",
    "kelime = 'a'\n",
    "sayaç = 2\n",
    "def artır(sayaç, kelime):\n",
    "    sayaç = 3\n",
    "    kelime = 'b'\n",
    "    return sayaç, kelime\n",
    "\n",
    "def ekrana_bas(kelime):\n",
    "    print(\"Merhaba: \",artır(sayaç, kelime))\n",
    "    # eğer kelime = 'b' yazılmasaydı ekrana_bas fonksiyonu 'a' bastıracaktı.\n",
    "ekrana_bas(kelime)"
   ]
  },
  {
   "cell_type": "code",
   "execution_count": 27,
   "metadata": {},
   "outputs": [
    {
     "name": "stdout",
     "output_type": "stream",
     "text": [
      "ismin ne? furkan\n",
      "Merhaba None. Nasılsın?\n",
      "ismin ne? furkan\n",
      "Merhaba None. Nasılsın?\n",
      "ismin ne? furkan\n",
      "Merhaba furkan. Nasılsın?\n"
     ]
    }
   ],
   "source": [
    "def ismin_ne(): # none geldi.\n",
    "    isim = input(\"ismin ne? \")\n",
    "    \n",
    "    \n",
    "print(\"Merhaba {}. Nasılsın?\".format(ismin_ne()))  \n",
    "\n",
    "def ismin_ne(): # none geldi.\n",
    "    isim = input(\"ismin ne? \")\n",
    "    return\n",
    "    \n",
    "print(\"Merhaba {}. Nasılsın?\".format(ismin_ne()))\n",
    "\n",
    "def ismin_ne(): # değer returnlendi.\n",
    "    isim = input(\"ismin ne? \")\n",
    "    return isim\n",
    "    \n",
    "print(\"Merhaba {}. Nasılsın?\".format(ismin_ne()))\n"
   ]
  },
  {
   "cell_type": "code",
   "execution_count": 28,
   "metadata": {},
   "outputs": [
    {
     "name": "stdout",
     "output_type": "stream",
     "text": [
      "Bir kelime girin: alper\n",
      "alper kelimesinde 2 sesli harf var.\n"
     ]
    }
   ],
   "source": [
    "sesli_harfler = 'aeıioöuü'\n",
    "sayaç = 0\n",
    "\n",
    "kelime = input('Bir kelime girin: ')\n",
    "\n",
    "for harf in kelime:\n",
    "    if harf in sesli_harfler:\n",
    "        sayaç += 1\n",
    "\n",
    "mesaj = '{} kelimesinde {} sesli harf var.'\n",
    "print(mesaj.format(kelime, sayaç))"
   ]
  },
  {
   "cell_type": "code",
   "execution_count": 1,
   "metadata": {},
   "outputs": [
    {
     "name": "stdout",
     "output_type": "stream",
     "text": [
      "Selfi 5\n"
     ]
    },
    {
     "data": {
      "text/plain": [
       "5"
      ]
     },
     "execution_count": 1,
     "metadata": {},
     "output_type": "execute_result"
    }
   ],
   "source": [
    "class foo():\n",
    "    \n",
    "    def __init__(self,x = 5):\n",
    "        self.x = x # global gibi düşün\n",
    "        print(\"Selfi\",self.x)\n",
    "    def Topla(self):\n",
    "        toplam = self.x\n",
    "        return toplam\n",
    "    \n",
    "foo().Topla()"
   ]
  },
  {
   "cell_type": "code",
   "execution_count": 11,
   "metadata": {},
   "outputs": [
    {
     "name": "stdout",
     "output_type": "stream",
     "text": [
      "Bir kelime girin: furkiboy\n",
      "furkiboy kelimesinde 3 sesli harf var.\n"
     ]
    }
   ],
   "source": [
    "sesli_harfler = 'aeıioöuü'\n",
    "sayaç = 0\n",
    "\n",
    "kelime = input('Bir kelime girin: ')\n",
    "\n",
    "def seslidir(harf):\n",
    "    return harf in sesli_harfler\n",
    "\n",
    "for harf in kelime:\n",
    "    if seslidir(harf):\n",
    "        sayaç += 1\n",
    "\n",
    "mesaj = '{} kelimesinde {} sesli harf var.'\n",
    "print(mesaj.format(kelime, sayaç))"
   ]
  },
  {
   "cell_type": "code",
   "execution_count": 23,
   "metadata": {},
   "outputs": [
    {
     "name": "stdout",
     "output_type": "stream",
     "text": [
      "Bir kelime girin: alper ekmekci\n",
      "Sesli Harfler:  a\n",
      "Sesli Harfler:  l\n",
      "Sesli Harfler:  p\n",
      "Sesli Harfler:  e\n",
      "Sesli Harfler:  r\n",
      "Sesli Harfler:   \n",
      "Sesli Harfler:  e\n",
      "Sesli Harfler:  k\n",
      "Sesli Harfler:  m\n",
      "Sesli Harfler:  e\n",
      "Sesli Harfler:  k\n",
      "Sesli Harfler:  c\n",
      "Sesli Harfler:  i\n",
      "alper ekmekci kelimesinde 13 sesli harf var.\n"
     ]
    }
   ],
   "source": [
    "sesli_harfler = 'aeıioöuü'\n",
    "sayaç = 0\n",
    "\n",
    "def kelime_sor():\n",
    "    return input('Bir kelime girin: ')\n",
    "\n",
    "def seslidir(harf):\n",
    "    return harf in sesli_harfler\n",
    "\n",
    "def artır(sayaç, kelime):\n",
    "    for harf in kelime:  # kelime bir variable değildir!! Bir stringdir.\n",
    "        if seslidir(harf):\n",
    "            print(\"Sesli Harfler: \",harf)\n",
    "            sayaç += 1\n",
    "    return sayaç\n",
    "\n",
    "def ekrana_bas(kelime):\n",
    "    mesaj = \"{} kelimesinde {} sesli harf var.\"\n",
    "    \n",
    "    #fonksiyonun içindeki parametreler varsayılan değerleri yüklerler.\n",
    "    print(mesaj.format(kelime, artır(sayaç, kelime)))\n",
    "\n",
    "def çalıştır():\n",
    "    kelime = kelime_sor()\n",
    "    ekrana_bas(kelime)\n",
    "    \n",
    "if __name__ == '__main__':\n",
    "    çalıştır()\n"
   ]
  },
  {
   "cell_type": "markdown",
   "metadata": {},
   "source": [
    "Yukarıdaki scriptimizi sayac.py uzantısı ile kaydettiğimizi hayal edelim. Şimdi sayac.py programını komut satırı üzerinden python sayac.py gibi bir komutla çalıştırın. Programınız normal bir şekilde çalışacaktır. Çünkü, bildiğiniz gibi, bir Python programı bağımsız bir program olarak çalıştırıldığında __name__ niteliğinin değeri ‘__main__’ olur. Dolayısıyla da çalıştır() fonksiyonu işlemeye başlar. Eğer programımızı modül olarak içe aktarırsak __name__ niteliğinin değeri ‘__main__’ değil, ilgili modülün adı oldu (yani bizim örneğimizde sayac).\n",
    "\n",
    "->sayac.seslidir('ö')\n",
    "\n",
    "True\n",
    "\n",
    "->sayac.seslidir('ç')\n",
    "\n",
    "False"
   ]
  },
  {
   "cell_type": "code",
   "execution_count": 17,
   "metadata": {},
   "outputs": [
    {
     "name": "stdout",
     "output_type": "stream",
     "text": [
      "Bir kelime girin: furkan çapar\n",
      "furkan çapar kelimesinde 4 sesli harf var.\n"
     ]
    }
   ],
   "source": [
    "class HarfSayacı:\n",
    "    def __init__(self):\n",
    "        self.sesli_harfler = 'aeıioöuü'\n",
    "        self.sayaç = 0\n",
    "\n",
    "    def kelime_sor(self):\n",
    "        return input('Bir kelime girin: ')\n",
    "\n",
    "    def seslidir(self, harf):\n",
    "        return harf in self.sesli_harfler\n",
    "\n",
    "    def artır(self):\n",
    "        for harf in self.kelime:\n",
    "            if self.seslidir(harf):\n",
    "                self.sayaç += 1\n",
    "        return self.sayaç\n",
    "\n",
    "    def ekrana_bas(self):\n",
    "        mesaj = \"{} kelimesinde {} sesli harf var.\"\n",
    "        sesli_harf_sayısı = self.artır()\n",
    "        print(mesaj.format(self.kelime, sesli_harf_sayısı))\n",
    "\n",
    "    def çalıştır(self):\n",
    "        self.kelime = self.kelime_sor()\n",
    "        self.ekrana_bas()\n",
    "\n",
    "if __name__ == '__main__':\n",
    "    sayaç = HarfSayacı()  #instance yaptık.\n",
    "    sayaç.çalıştır()"
   ]
  },
  {
   "cell_type": "markdown",
   "metadata": {},
   "source": [
    "def start(self):  # bu bir modüldeki fonksiyon olsun\n",
    "\n",
    "\tThread(target=self.update, args=()).start()\n",
    "\treturn self\n",
    "    \n",
    "vs = WebcamVideoStream(src=0).start()\n",
    "#vs burada return self ile döndürüldü ve vs ifadesi instance oldu\n"
   ]
  },
  {
   "cell_type": "code",
   "execution_count": 21,
   "metadata": {},
   "outputs": [
    {
     "name": "stdout",
     "output_type": "stream",
     "text": [
      "[]\n"
     ]
    }
   ],
   "source": [
    "class Çalışan: # parantez kullanıp kullanmamak önemli değil.\n",
    "    # kabiliyetleri ve unvanı degiskenleri class attribute diye geçer.\n",
    "    kabiliyetleri = []\n",
    "    unvanı = 'işçi'\n",
    "    print(kabiliyetleri) \n",
    "    \n",
    "# Classların fonksiyonlardan farkı fonksiyonları çağırmamızdır. Classda buna gerek yoktur."
   ]
  },
  {
   "cell_type": "code",
   "execution_count": 22,
   "metadata": {},
   "outputs": [
    {
     "name": "stdout",
     "output_type": "stream",
     "text": [
      "[]\n",
      "işçi\n"
     ]
    }
   ],
   "source": [
    "class Çalışan():\n",
    "    kabiliyetleri = []\n",
    "    unvanı = 'işçi'\n",
    "\n",
    "print(Çalışan.kabiliyetleri)\n",
    "print(Çalışan.unvanı)"
   ]
  },
  {
   "cell_type": "code",
   "execution_count": 36,
   "metadata": {},
   "outputs": [
    {
     "name": "stdout",
     "output_type": "stream",
     "text": [
      "1500\n",
      "[]\n"
     ]
    }
   ],
   "source": [
    "class Çalışan():\n",
    "    kabiliyetleri = []  # sınıf niteliği.\n",
    "    unvanı = 'işçi'\n",
    "    maaşı = 1500\n",
    "    memleketi = ''\n",
    "    doğum_tarihi = ''\n",
    "    print(maaşı)\n",
    "    \n",
    "Çalışan.isim = 'Ahmet'  # Çalışan sınıfına özellik(attribute) ekledik.\n",
    "Çalışan.yaş = 40\n",
    "print(Çalışan.kabiliyetleri)\n"
   ]
  },
  {
   "cell_type": "code",
   "execution_count": 37,
   "metadata": {},
   "outputs": [],
   "source": [
    "class Çalışan():\n",
    "    kabiliyetleri = []\n",
    "    unvanı = 'işçi'\n",
    "    maaşı = 1500\n",
    "    memleketi = ''\n",
    "    doğum_tarihi = ''\n",
    "\n",
    "ahmet = Çalışan() # instantiation işlemi yapıldı."
   ]
  },
  {
   "cell_type": "code",
   "execution_count": 5,
   "metadata": {},
   "outputs": [
    {
     "name": "stdout",
     "output_type": "stream",
     "text": [
      "Er\n"
     ]
    }
   ],
   "source": [
    "class Asker():\n",
    "    rütbesi = 'Er'\n",
    "    standart_teçhizat = ['G3', 'kasatura', 'süngü', 'el bombası']\n",
    "    gücü = 60\n",
    "    birliği = ''\n",
    "#Sınıf çağırırken bir isim vermeliyiz ki bu isim üzerinden sınıfa ve niteliklerine erişebilelim.\n",
    "mehmet = Asker()\n",
    "print(mehmet.rütbesi)\n",
    "#ahmet ve mehmet ilgili sınıflardaki bütün özellikleri(attributes) leri taşıyan birer üyeleridir."
   ]
  },
  {
   "cell_type": "code",
   "execution_count": 48,
   "metadata": {},
   "outputs": [
    {
     "name": "stdout",
     "output_type": "stream",
     "text": [
      "0\n"
     ]
    }
   ],
   "source": [
    "class Sipariş():\n",
    "    #firma, miktar, sipariş_tarihi, teslim_tarihi, stok_adedi birer class attribute' tudur.\n",
    "    firma = ''\n",
    "    miktar = 0\n",
    "    sipariş_tarihi = ''\n",
    "    teslim_tarihi = ''\n",
    "    stok_adedi = 0\n",
    "\n",
    "#Sipariş sınıfımızın adı oluyor. Biz sınıfımızın adını parantezli veya parantezsiz olarak kullanma imkanına sahibiz.\n",
    "gofret = Sipariş()\n",
    "gofret.firma = 'Öz İstihza ve Şerikleri Gıda, Ticaret Anonim Şirketi'\n",
    "gofret.miktar = 1000\n"
   ]
  },
  {
   "cell_type": "code",
   "execution_count": 50,
   "metadata": {
    "scrolled": true
   },
   "outputs": [
    {
     "name": "stdout",
     "output_type": "stream",
     "text": [
      "['prezantabl']\n",
      "işçi\n",
      "1500\n",
      "\n",
      "['prezantabl']\n",
      "\n"
     ]
    }
   ],
   "source": [
    "class Çalışan():\n",
    "    kabiliyetleri = []\n",
    "    unvanı = 'işçi'\n",
    "    maaşı = 1500\n",
    "    memleketi = ''\n",
    "    doğum_tarihi = ''\n",
    "    \n",
    "ahmet = Çalışan()\n",
    "mehmet = Çalışan()\n",
    "ayşe = Çalışan()\n",
    "\n",
    "ahmet.kabiliyetleri.append('prezantabl')\n",
    "\n",
    "print(ahmet.kabiliyetleri)\n",
    "print(ahmet.unvanı)\n",
    "\n",
    "print(mehmet.maaşı) # parantez kullanıp kullanmamak önemli değil.\n",
    "print(mehmet.memleketi)\n",
    "\n",
    "print(ayşe.kabiliyetleri)\n",
    "print(ayşe.doğum_tarihi)\n",
    "\n"
   ]
  },
  {
   "cell_type": "markdown",
   "metadata": {},
   "source": [
    " Görüldüğü üzere ahmet ve ayşe kabiliyetlerine de 'prezantabl' eklenmiş bu istemediğimiz bir olay. O halde biz değerinin her örnekte ortak değil de her örneğe özgü olmasını istediğimiz nitelikleri nasıl tanımlayacağız? Elbette sınıf nitelikleri yerine örnek nitelikleri denen başka bir kavramdan yararlanarak...Örnek niteliklerini tanımlamak için ise iki yardımcı araca ihtiyacımız var: __init__() fonksiyonu ve self."
   ]
  },
  {
   "cell_type": "code",
   "execution_count": 58,
   "metadata": {},
   "outputs": [
    {
     "name": "stdout",
     "output_type": "stream",
     "text": [
      "[]\n"
     ]
    },
    {
     "data": {
      "text/plain": [
       "<__main__.Çalışan at 0x7fe5943bd828>"
      ]
     },
     "execution_count": 58,
     "metadata": {},
     "output_type": "execute_result"
    }
   ],
   "source": [
    "class Çalışan():\n",
    "    def __init__(self):\n",
    "        #self.kabiliyetleri bir örnek niteliğidir.\n",
    "\n",
    "        self.kabiliyetleri = []\n",
    "        print(self.kabiliyetleri)\n",
    "Çalışan()\n"
   ]
  },
  {
   "cell_type": "markdown",
   "metadata": {},
   "source": [
    "Yukarıdaki kodları çalıştırdığınızda herhangi bir çıktı almazsınız. Bu kodların çıktı verebilmesi için sınıfımızı mutlaka örneklememiz lazım. Çünkü self.kabiliyetleri bir sınıf niteliği değil, bir örnek niteliğidir. Örnek niteliklerine erişebilmek için de ilgili sınıfı mutlaka örneklememiz gerekir. Ayrıca sınıf niteliklerinin aksine, örnek niteliklerine sınıf adları üzerinden erişemeyiz. Yani self.kabiliyetleri adlı örnek niteliğine erişmeye yönelik şöyle bir girişim bizi hüsrana uğratacaktır:\n",
    "\n",
    "Çalışan.kabiliyetleri\n",
    "\n",
    "Bu örnek niteliğine erişmek için örneklendirme mekanizmasından yararlanmamız lazım:\n",
    "\n",
    "Çalışan().kabiliyetleri #parantezlere dikkat!\n",
    "\n",
    "Gelin isterseniz, örneklendirme işlemini daha kullanışlı bir hale getirmek için, örneklendirdiğimiz sınıfı bir örneğe atayalım, yani bu sınıfın bir örneğini çıkaralım:\n",
    "\n",
    "ahmet = Çalışan() # örnek\n",
    "\n",
    "Self kelimesi, Python programlama dilinin söz diziminin gerektirdiği bir öğedir. Bu kelime, Çalışan() adlı sınıfın örneklerini temsil eder. "
   ]
  },
  {
   "cell_type": "code",
   "execution_count": 59,
   "metadata": {},
   "outputs": [
    {
     "name": "stdout",
     "output_type": "stream",
     "text": [
      "[]\n",
      "[]\n"
     ]
    }
   ],
   "source": [
    "class Çalışan():\n",
    "    def __init__(self):\n",
    "        #self.kabiliyetleri bir örnek niteliğidir.\n",
    "\n",
    "        self.kabiliyetleri = []\n",
    "        print(self.kabiliyetleri)\n",
    "ahmet = Çalışan()\n",
    "print(ahmet.kabiliyetleri)\n",
    "#"
   ]
  },
  {
   "cell_type": "markdown",
   "metadata": {},
   "source": [
    "İşte self kelimesi, yukarıdaki kodda yer alan ahmet kelimesini temsil ediyor. Yani ahmet.kabiliyetleri şeklinde bir kod yazabilmemizi sağlayan şey, __init__() fonksiyonu içinde belirttiğimiz self kelimesidir.\n"
   ]
  },
  {
   "cell_type": "code",
   "execution_count": 5,
   "metadata": {},
   "outputs": [
    {
     "name": "stdout",
     "output_type": "stream",
     "text": [
      "['örnek niteliği']\n"
     ]
    }
   ],
   "source": [
    "class Çalışan():\n",
    "    kabiliyetleri = ['sınıf niteliği']\n",
    "\n",
    "    def __init__(self):\n",
    "        self.kabiliyetleri = ['örnek niteliği']\n",
    "        \n",
    "ahmet = Çalışan()\n",
    "print(ahmet.kabiliyetleri)  # örnek = instance"
   ]
  },
  {
   "cell_type": "code",
   "execution_count": 8,
   "metadata": {},
   "outputs": [
    {
     "name": "stdout",
     "output_type": "stream",
     "text": [
      "['sınıf niteliği']\n",
      "['örnek niteliği']\n"
     ]
    }
   ],
   "source": [
    "class Çalışan():\n",
    "    kabiliyetleri = ['sınıf niteliği']\n",
    "\n",
    "    def __init__(self):\n",
    "        self.kabiliyetleri = ['örnek niteliği']\n",
    "\n",
    "#sınıf niteliğine erişmek için\n",
    "#sınıf adını kullanıyoruz\n",
    "print(Çalışan.kabiliyetleri)\n",
    "\n",
    "#örnek niteliğine erişmek için\n",
    "#örnek adını kullanıyoruz\n",
    "ahmet = Çalışan()\n",
    "print(ahmet.kabiliyetleri)\n",
    "#print(self.kabiliyetleri) --> HATA VERIR!"
   ]
  },
  {
   "cell_type": "code",
   "execution_count": 1,
   "metadata": {},
   "outputs": [
    {
     "ename": "NameError",
     "evalue": "name 'self' is not defined",
     "output_type": "error",
     "traceback": [
      "\u001b[0;31m---------------------------------------------------------------------------\u001b[0m",
      "\u001b[0;31mNameError\u001b[0m                                 Traceback (most recent call last)",
      "\u001b[0;32m<ipython-input-1-4a3c7fc166d7>\u001b[0m in \u001b[0;36m<module>\u001b[0;34m()\u001b[0m\n\u001b[0;32m----> 1\u001b[0;31m \u001b[0;32mclass\u001b[0m \u001b[0mÇalışan\u001b[0m\u001b[0;34m(\u001b[0m\u001b[0;34m)\u001b[0m\u001b[0;34m:\u001b[0m\u001b[0;34m\u001b[0m\u001b[0m\n\u001b[0m\u001b[1;32m      2\u001b[0m     \u001b[0mself\u001b[0m\u001b[0;34m.\u001b[0m\u001b[0mn\u001b[0m \u001b[0;34m=\u001b[0m \u001b[0;36m0\u001b[0m\u001b[0;34m\u001b[0m\u001b[0m\n\u001b[1;32m      3\u001b[0m \u001b[0;34m\u001b[0m\u001b[0m\n\u001b[1;32m      4\u001b[0m     \u001b[0;32mdef\u001b[0m \u001b[0m__init__\u001b[0m\u001b[0;34m(\u001b[0m\u001b[0mself\u001b[0m\u001b[0;34m)\u001b[0m\u001b[0;34m:\u001b[0m\u001b[0;34m\u001b[0m\u001b[0m\n\u001b[1;32m      5\u001b[0m         \u001b[0mself\u001b[0m\u001b[0;34m.\u001b[0m\u001b[0mkabiliyetleri\u001b[0m \u001b[0;34m=\u001b[0m \u001b[0;34m[\u001b[0m\u001b[0;34m]\u001b[0m\u001b[0;34m\u001b[0m\u001b[0m\n",
      "\u001b[0;32m<ipython-input-1-4a3c7fc166d7>\u001b[0m in \u001b[0;36mÇalışan\u001b[0;34m()\u001b[0m\n\u001b[1;32m      1\u001b[0m \u001b[0;32mclass\u001b[0m \u001b[0mÇalışan\u001b[0m\u001b[0;34m(\u001b[0m\u001b[0;34m)\u001b[0m\u001b[0;34m:\u001b[0m\u001b[0;34m\u001b[0m\u001b[0m\n\u001b[0;32m----> 2\u001b[0;31m     \u001b[0mself\u001b[0m\u001b[0;34m.\u001b[0m\u001b[0mn\u001b[0m \u001b[0;34m=\u001b[0m \u001b[0;36m0\u001b[0m\u001b[0;34m\u001b[0m\u001b[0m\n\u001b[0m\u001b[1;32m      3\u001b[0m \u001b[0;34m\u001b[0m\u001b[0m\n\u001b[1;32m      4\u001b[0m     \u001b[0;32mdef\u001b[0m \u001b[0m__init__\u001b[0m\u001b[0;34m(\u001b[0m\u001b[0mself\u001b[0m\u001b[0;34m)\u001b[0m\u001b[0;34m:\u001b[0m\u001b[0;34m\u001b[0m\u001b[0m\n\u001b[1;32m      5\u001b[0m         \u001b[0mself\u001b[0m\u001b[0;34m.\u001b[0m\u001b[0mkabiliyetleri\u001b[0m \u001b[0;34m=\u001b[0m \u001b[0;34m[\u001b[0m\u001b[0;34m]\u001b[0m\u001b[0;34m\u001b[0m\u001b[0m\n",
      "\u001b[0;31mNameError\u001b[0m: name 'self' is not defined"
     ]
    }
   ],
   "source": [
    "class Çalışan():\n",
    "    self.n = 0\n",
    "\n",
    "    def __init__(self):\n",
    "        self.kabiliyetleri = []\n",
    "        \n",
    "#Çünkü self kelimesi ancak ve ancak, içinde geçtiği fonksiyonun parametre listesinde ilk sırada kullanıldığında anlam kazanır."
   ]
  },
  {
   "cell_type": "code",
   "execution_count": 3,
   "metadata": {},
   "outputs": [],
   "source": [
    "class XY():\n",
    "    def __init__(a, b, c):\n",
    "        a.örnek_niteliği = []\n"
   ]
  },
  {
   "cell_type": "markdown",
   "metadata": {},
   "source": [
    "**a örnek niteliği olmuş oldu yani bir instance attribute oldu.\n",
    "**__init__() fonksiyonunun ilk parametresi a olarak belirlendikten sonra, bu fonksiyon içindeki bütün örnek nitelikleri, önek olarak a kelimesini alacaktır:"
   ]
  },
  {
   "cell_type": "code",
   "execution_count": 4,
   "metadata": {},
   "outputs": [],
   "source": [
    "class XY():\n",
    "    def __init__(a, b, c):\n",
    "        a.örnek_niteliği1 = []\n",
    "        a.örnek_niteliği2 = 23\n",
    "        a.örnek_niteliği3 = 'istihza'"
   ]
  },
  {
   "cell_type": "code",
   "execution_count": 35,
   "metadata": {},
   "outputs": [],
   "source": [
    "class Çalışan():\n",
    "    personel = []\n",
    "\n",
    "    def __init__(self, isim):\n",
    "        self.isim = isim\n",
    "        self.kabiliyetleri = []\n",
    "        self.personele_ekle()\n",
    "\n",
    "    def personele_ekle(self):\n",
    "        self.personel.append(self.isim)\n",
    "        print('{} adlı kişi personele eklendi'.format(self.isim))\n",
    "\n",
    "    def personeli_görüntüle(self):\n",
    "        print('Personel listesi:')\n",
    "        for kişi in self.personel:\n",
    "            print(kişi)\n",
    "\n",
    "    def kabiliyet_ekle(self, kabiliyet):\n",
    "        self.kabiliyetleri.append(kabiliyet)\n",
    "\n",
    "    def kabiliyetleri_görüntüle(self):\n",
    "        print('{} adlı kişinin kabiliyetleri:'.format(self.isim))\n",
    "        for kabiliyet in self.kabiliyetleri:\n",
    "            print(kabiliyet)"
   ]
  },
  {
   "cell_type": "code",
   "execution_count": 36,
   "metadata": {},
   "outputs": [
    {
     "name": "stdout",
     "output_type": "stream",
     "text": [
      "Ahmet adlı kişi personele eklendi\n"
     ]
    }
   ],
   "source": [
    "ç1 = Çalışan('Ahmet')"
   ]
  },
  {
   "cell_type": "code",
   "execution_count": 18,
   "metadata": {},
   "outputs": [
    {
     "name": "stdout",
     "output_type": "stream",
     "text": [
      "Mehmet adlı kişi personele eklendi\n"
     ]
    }
   ],
   "source": [
    "ç2 = Çalışan('Mehmet')"
   ]
  },
  {
   "cell_type": "code",
   "execution_count": 23,
   "metadata": {},
   "outputs": [
    {
     "data": {
      "text/plain": [
       "['Ahmet', 'Mehmet']"
      ]
     },
     "execution_count": 23,
     "metadata": {},
     "output_type": "execute_result"
    }
   ],
   "source": [
    "ç1.personel"
   ]
  },
  {
   "cell_type": "code",
   "execution_count": 24,
   "metadata": {},
   "outputs": [],
   "source": [
    "ç1.kabiliyet_ekle('prezantabl')"
   ]
  },
  {
   "cell_type": "code",
   "execution_count": 25,
   "metadata": {},
   "outputs": [
    {
     "name": "stdout",
     "output_type": "stream",
     "text": [
      "Mehmet adlı kişinin kabiliyetleri:\n"
     ]
    }
   ],
   "source": [
    "ç2.kabiliyetleri_görüntüle()\n",
    "# BU BİR SINIF METODU DEĞİL ÖRNEK METODUDUR!"
   ]
  },
  {
   "cell_type": "code",
   "execution_count": 26,
   "metadata": {},
   "outputs": [],
   "source": [
    "ç1.kabiliyet_ekle('Satranç Oynamak')"
   ]
  },
  {
   "cell_type": "code",
   "execution_count": 27,
   "metadata": {},
   "outputs": [
    {
     "data": {
      "text/plain": [
       "['prezantabl', 'Satranç Oynamak']"
      ]
     },
     "execution_count": 27,
     "metadata": {},
     "output_type": "execute_result"
    }
   ],
   "source": [
    "ç1.kabiliyetleri"
   ]
  },
  {
   "cell_type": "code",
   "execution_count": 28,
   "metadata": {},
   "outputs": [
    {
     "data": {
      "text/plain": [
       "[]"
      ]
     },
     "execution_count": 28,
     "metadata": {},
     "output_type": "execute_result"
    }
   ],
   "source": [
    "ç2.kabiliyetleri"
   ]
  },
  {
   "cell_type": "code",
   "execution_count": 29,
   "metadata": {},
   "outputs": [],
   "source": [
    "ç2.kabiliyet_ekle('Meraklı')"
   ]
  },
  {
   "cell_type": "code",
   "execution_count": 30,
   "metadata": {},
   "outputs": [
    {
     "data": {
      "text/plain": [
       "['Meraklı']"
      ]
     },
     "execution_count": 30,
     "metadata": {},
     "output_type": "execute_result"
    }
   ],
   "source": [
    "ç2.kabiliyetleri"
   ]
  },
  {
   "cell_type": "markdown",
   "metadata": {},
   "source": [
    "# isim parametresini, __init__() fonksiyonunun gövdesi içinde bir örnek niteliği haline getiriyoruz:\n",
    "\n",
    "self.isim = isim\n",
    "\n",
    "## Bunu yapmamızın gerekçesi, isim parametresini sınıfımızın başka bölgelerinde de kullanabilmek. self kelimesini parametremizin başına yerleştirerek, bu parametreyi sınıfın başka yerlerinden de erişilebilir hale getiriyoruz.\n",
    "\n",
    "## Bunun ardından şöyle bir kod görüyoruz:\n",
    "\n",
    "self.personele_ekle()\n",
    "\n",
    "## Burada, personele_ekle() adlı bir örnek metoduna (instance method) atıfta bulunuyoruz. Örnek metotları, bir sınıfın örnekleri vasıtasıyla çağrılabilen fonksiyonlardır. Bu fonksiyonların ilk parametresi her zaman self kelimesidir. Ayrıca bu fonksiyonlara sınıf içinde atıfta bulunurken de yine self kelimesini kullanıyoruz. Tıpkı yukarıdaki örnekte olduğu gibi..."
   ]
  },
  {
   "cell_type": "markdown",
   "metadata": {},
   "source": [
    "def personele_ekle(self):\n",
    "\n",
    "    self.personel.append(self.isim)\n",
    "    \n",
    "    print('{} adlı kişi personele eklendi'.format(self.isim))\n",
    "    \n",
    "# Burada, bir sınıf niteliği olan personel değişkenine nasıl eriştiğimize çok dikkat etmenizi istiyorum. Daha önce de söylediğimiz gibi, sınıf niteliklerine sınıf dışındayken örnekler üzerinden erişebiliyoruz. self kelimesi, bir sınıfın örneklerini temsil ettiği için, bir sınıf niteliğine sınıf içinden erişmemiz gerektiğinde self kelimesini kullanabiliriz."
   ]
  },
  {
   "cell_type": "code",
   "execution_count": null,
   "metadata": {},
   "outputs": [],
   "source": []
  }
 ],
 "metadata": {
  "kernelspec": {
   "display_name": "Python 3",
   "language": "python",
   "name": "python3"
  },
  "language_info": {
   "codemirror_mode": {
    "name": "ipython",
    "version": 3
   },
   "file_extension": ".py",
   "mimetype": "text/x-python",
   "name": "python",
   "nbconvert_exporter": "python",
   "pygments_lexer": "ipython3",
   "version": "3.6.5"
  }
 },
 "nbformat": 4,
 "nbformat_minor": 2
}
