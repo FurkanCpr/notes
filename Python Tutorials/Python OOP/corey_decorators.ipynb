{
 "cells": [
  {
   "cell_type": "markdown",
   "metadata": {},
   "source": [
    "# Python'da decorator'lar, argüman olarak fonksiyon alıp, sonuçta yine fonksiyon döndüren fonksiyonlara deniyor."
   ]
  },
  {
   "cell_type": "markdown",
   "metadata": {},
   "source": [
    "İlk satırda tanımladığımız fonksiyon çağırıldığında, kendi içerisinde wrapper_function isminde bir fonksiyon oluşturuyor. Daha sonra, bu fonksiyon, decorator_function'un dönüş değeri olarak döndürülüyor. Gördünüz gibi, bu fonksiyonu bir değişkene atayabiliyor ve istediğimizde çağırabiliyoruz."
   ]
  },
  {
   "cell_type": "code",
   "execution_count": null,
   "metadata": {},
   "outputs": [],
   "source": [
    "def decorator_function(original_function):\n",
    "    def wrapper_function():\n",
    "        print('wrapper executed this before {}'.format(original_function.__name__))\n",
    "        return original_function()\n",
    "    return wrapper_function\n",
    "\n",
    "@decorator_function\n",
    "def display():\n",
    "    print('display function ran')\n",
    "    \n",
    "display()"
   ]
  },
  {
   "cell_type": "code",
   "execution_count": null,
   "metadata": {},
   "outputs": [],
   "source": [
    "def kalinyaz(foo):\n",
    "    def wrapper():\n",
    "        return \"!\" + foo() + \"!\"\n",
    "    return wrapper\n",
    "@kalinyaz\n",
    "def yasar():\n",
    "    return \"yasarcik\"\n",
    "yasar()\n",
    "# \"yasar\" ile foo() nun yerini degistirdi."
   ]
  },
  {
   "cell_type": "code",
   "execution_count": 10,
   "metadata": {},
   "outputs": [
    {
     "name": "stdout",
     "output_type": "stream",
     "text": [
      "call method executed this before display\n",
      "display function ran\n",
      "call method executed this before display_info\n",
      "display_info ran with arguments (Furkan, 22)\n"
     ]
    }
   ],
   "source": [
    "class decorator_class(object):\n",
    "    def __init__(self, original_function):\n",
    "        self.original_function = original_function\n",
    "    \n",
    "    def __call__(self, *args, **kwargs):\n",
    "        print('call method executed this before {}'.format(self.original_function.__name__))\n",
    "        return self.original_function(*args, **kwargs)\n",
    "    \n",
    "@decorator_class\n",
    "def display():\n",
    "    print('display function ran')\n",
    "\n",
    "@decorator_class\n",
    "def display_info(name, age):\n",
    "    print('display_info ran with arguments ({}, {})'.format(name,age))\n",
    "    \n",
    "display()\n",
    "\n",
    "display_info('Furkan',22)\n",
    "\n"
   ]
  },
  {
   "cell_type": "code",
   "execution_count": null,
   "metadata": {},
   "outputs": [],
   "source": []
  }
 ],
 "metadata": {
  "kernelspec": {
   "display_name": "Python 3",
   "language": "python",
   "name": "python3"
  },
  "language_info": {
   "codemirror_mode": {
    "name": "ipython",
    "version": 3
   },
   "file_extension": ".py",
   "mimetype": "text/x-python",
   "name": "python",
   "nbconvert_exporter": "python",
   "pygments_lexer": "ipython3",
   "version": "3.6.5"
  }
 },
 "nbformat": 4,
 "nbformat_minor": 2
}
