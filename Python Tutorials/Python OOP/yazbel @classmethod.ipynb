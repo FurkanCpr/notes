{
 "cells": [
  {
   "cell_type": "raw",
   "metadata": {},
   "source": [
    "OOP temel kavramlar :\n",
    "\n",
    "*Sınıflar (classes)   --> Çalışan()\n",
    "*Örnekler (instances)  --> ç1\n",
    "*Sınıf nitelikleri (class attributes) --> Çalışan().kabiliyetleri\n",
    "*Örnek nitelikleri (instance attributes) --> ç1.kabiliyetleri\n",
    "*Örnek metotları (instance methods) --> ç1.personele_ekle() \n",
    "\n",
    "OOP tabiki de bu kavramlardan ibaret değildir. Biz bu kavramları öğrenirken ilk olarak sınıf metotları (class methods) kavramını öğreneceğiz.\n",
    "\n",
    "* __init__ metodu örnekleme işlemi yapar.\n",
    "* Magic Methods düzenlenebilir. Hazır özellikleri de mevcuttur. ( __len__, __str__ gibi)\n",
    "* Inheritance superclass ve subclass dan oluşur. Subclass, superclass' lardaki verileri kullanır onları miras alır(inheritancing)."
   ]
  },
  {
   "cell_type": "code",
   "execution_count": 1,
   "metadata": {},
   "outputs": [],
   "source": [
    "class Çalışan():\n",
    "    personel = []\n",
    "\n",
    "    def __init__(self, isim):  # init de bir örnek metodudur.\n",
    "        self.isim = isim\n",
    "        self.kabiliyetleri = []\n",
    "        self.personele_ekle()\n",
    "\n",
    "    def personel_sayısını_görüntüle(self):\n",
    "        print(len(self.personel))\n",
    "\n",
    "    def personele_ekle(self):\n",
    "        self.personel.append(self.isim)\n",
    "        print('{} adlı kişi personele eklendi'.format(self.isim))\n",
    "\n",
    "    def personeli_görüntüle(self):\n",
    "        print('Personel listesi:')\n",
    "        for kişi in self.personel:\n",
    "            print(kişi)\n",
    "\n",
    "    def kabiliyet_ekle(self, kabiliyet):\n",
    "        self.kabiliyetleri.append(kabiliyet)\n",
    "\n",
    "    def kabiliyetleri_görüntüle(self):\n",
    "        print('{} adlı kişinin kabiliyetleri:'.format(self.isim))\n",
    "        for kabiliyet in self.kabiliyetleri:\n",
    "            print(kabiliyet)"
   ]
  },
  {
   "cell_type": "code",
   "execution_count": null,
   "metadata": {},
   "outputs": [],
   "source": []
  }
 ],
 "metadata": {
  "kernelspec": {
   "display_name": "Python 3",
   "language": "python",
   "name": "python3"
  },
  "language_info": {
   "codemirror_mode": {
    "name": "ipython",
    "version": 3
   },
   "file_extension": ".py",
   "mimetype": "text/x-python",
   "name": "python",
   "nbconvert_exporter": "python",
   "pygments_lexer": "ipython3",
   "version": "3.6.5"
  }
 },
 "nbformat": 4,
 "nbformat_minor": 2
}
