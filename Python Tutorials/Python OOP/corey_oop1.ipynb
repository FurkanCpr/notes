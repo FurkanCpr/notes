{
 "cells": [
  {
   "cell_type": "markdown",
   "metadata": {},
   "source": [
    "Scriptlerimizde class kullanmamızın sebebi datalarımızda gruplama kolaylığı sağlaması, reuse yapabilmemiz ve buildlememizin kolay olmasındandır. Employee bir classdır emp_1, emp_2 bir instance dir.\n",
    "\n",
    "self.first tarzı ifadeleri init dışında kullandığımızda initte verdiğimiz değerleri okumuş oluyoruz."
   ]
  },
  {
   "cell_type": "code",
   "execution_count": 2,
   "metadata": {},
   "outputs": [
    {
     "name": "stdout",
     "output_type": "stream",
     "text": [
      "Selam\n",
      "merhaba\n",
      "merhaba\n",
      "sea\n",
      "{'first': 'Corey', 'last': 'Schafer', 'pay': 50000, 'email': 'Corey.Schafer@company.com', 'raise_amount': 1.05, 'num_of_emps': 1}\n",
      "1.05\n",
      "1.05\n"
     ]
    }
   ],
   "source": [
    "class Employee:\n",
    "    print(\"Selam\")\n",
    "    num_of_emps = 0 # sabit değer girdi almaz.\n",
    "    raise_amount = 1.04\n",
    "    \n",
    "    #init girdi aldığı için self ile değeri fonksiyona döndürüyoruz.\n",
    "    def __init__(self, first, last, pay): # self,first,last,pay birer argümanlardır.\n",
    "        print(\"merhaba\")\n",
    "        self.first = first # Bu değer giren değişkene aittir.\n",
    "        self.last = last\n",
    "        self.pay = pay\n",
    "        self.email = first + \".\" + last + \"@company.com\"\n",
    "\n",
    "    def fullname(self): # fullname bir metoddur.\n",
    "        print(\"sea\")\n",
    "\n",
    "        return '{} {}'.format(self.first, self.last)\n",
    "    def apply_raise(self):\n",
    "        \n",
    "        #classın instancelerini raise_amount olmasını istiyorsan class.instance yapmalıyız.\n",
    "        self.pay = int(self.pay * self.raise_amount) \n",
    "        \n",
    "    @classmethod\n",
    "    def set_raise_amt(cls,amount):\n",
    "        cls.raise_amount = amount\n",
    "        \n",
    "        \n",
    "#print(Employee.num_of_emps)\n",
    "#own unic instances of the employee class\n",
    "emp_1 = Employee('Corey', 'Schafer', 50000)  #emp_1 bir objedir ve classın bir instance' dir.\n",
    "emp_2 = Employee('Test', 'User', 60000) #emp_2 bir objedir ve classın bir instance' dir\n",
    "\n",
    "emp_1.fullname()\n",
    "emp_1.raise_amount = 1.05 # instance'in self.argumanının eklenmiş hali\n",
    "emp_1.num_of_emps += 1 \n",
    "\n",
    "Employee.set_raise_amt(1.05)\n",
    "\n",
    "print(emp_1.__dict__)\n",
    "\n",
    "print(Employee.raise_amount)\n",
    "print(emp_1.raise_amount)\n",
    "#print(emp_2.raise_amount)\n",
    "\n",
    "\n",
    "#print(emp_1.__dict__)\n",
    "\n",
    "#print(emp_1.num_of_emps) # emp_1 ve emp_2 için sayacı calıstırır.\n",
    "\n",
    "#emp_1.raise_amount\n",
    "#print(emp_2)\n",
    "#print(emp_2.fullname()) # instance.metod\n",
    "#print(Employee.fullname(emp_2))"
   ]
  },
  {
   "cell_type": "markdown",
   "metadata": {},
   "source": [
    "Manuel olarak set etmek istemediğimiz için özel init metodunu kullanıyoruz. Init metodu ile instanceları otomatik olarak değiştirebiliyoruz. Init metodundaki argümanlar ilk argümanlar olarak çalışır."
   ]
  },
  {
   "cell_type": "code",
   "execution_count": 1,
   "metadata": {},
   "outputs": [
    {
     "ename": "NameError",
     "evalue": "name 'new_emp_1' is not defined",
     "output_type": "error",
     "traceback": [
      "\u001b[0;31m---------------------------------------------------------------------------\u001b[0m",
      "\u001b[0;31mNameError\u001b[0m                                 Traceback (most recent call last)",
      "\u001b[0;32m<ipython-input-1-171064283a37>\u001b[0m in \u001b[0;36m<module>\u001b[0;34m()\u001b[0m\n\u001b[1;32m     27\u001b[0m \u001b[0;31m#new_emp_1 = Employee(first, last, pay)   from_string kısmına eklendi ve çıktı aktarıldı.\u001b[0m\u001b[0;34m\u001b[0m\u001b[0;34m\u001b[0m\u001b[0m\n\u001b[1;32m     28\u001b[0m \u001b[0;34m\u001b[0m\u001b[0m\n\u001b[0;32m---> 29\u001b[0;31m \u001b[0mprint\u001b[0m\u001b[0;34m(\u001b[0m\u001b[0mnew_emp_1\u001b[0m\u001b[0;34m.\u001b[0m\u001b[0memail\u001b[0m\u001b[0;34m)\u001b[0m\u001b[0;34m\u001b[0m\u001b[0m\n\u001b[0m\u001b[1;32m     30\u001b[0m \u001b[0mprint\u001b[0m\u001b[0;34m(\u001b[0m\u001b[0mnew_emp_1\u001b[0m\u001b[0;34m.\u001b[0m\u001b[0mpay\u001b[0m\u001b[0;34m)\u001b[0m\u001b[0;34m\u001b[0m\u001b[0m\n",
      "\u001b[0;31mNameError\u001b[0m: name 'new_emp_1' is not defined"
     ]
    }
   ],
   "source": [
    "class Employee:\n",
    "    def __init__(self, first, last, pay):\n",
    "        self.first = first \n",
    "        self.last = last\n",
    "        self.pay = pay\n",
    "        self.email = first + \".\" + last + \"@company.com\"\n",
    "        \n",
    "@classmethod\n",
    "def set_raise_amt(cls,amount):\n",
    "    cls.raise_amount = amount\n",
    "    \n",
    "@classmethod\n",
    "def from_string(cls, emp_str):\n",
    "    first, last, pay = emp_str.split('-')\n",
    "    return cls(first, last, pay)\n",
    "\n",
    "\n",
    "emp_1 = Employee('Corey', 'Schafer', 50000)\n",
    "emp_2 = Employee('Test', 'User', 60000)\n",
    "\n",
    "emp_str_1 = 'John-Doe-70000'\n",
    "emp_str_2 = 'Steve-Smith-30000'\n",
    "emp_str_3 = 'Jane-Doe-90000'\n",
    "\n",
    "#first, last, pay = emp_str_1.split('-')\n",
    "\n",
    "#new_emp_1 = Employee(first, last, pay)   from_string kısmına eklendi ve çıktı aktarıldı.\n",
    "\n",
    "print(new_emp_1.email)\n",
    "print(new_emp_1.pay)"
   ]
  },
  {
   "cell_type": "code",
   "execution_count": null,
   "metadata": {},
   "outputs": [],
   "source": []
  },
  {
   "cell_type": "code",
   "execution_count": null,
   "metadata": {},
   "outputs": [],
   "source": []
  }
 ],
 "metadata": {
  "kernelspec": {
   "display_name": "Python 3",
   "language": "python",
   "name": "python3"
  },
  "language_info": {
   "codemirror_mode": {
    "name": "ipython",
    "version": 3
   },
   "file_extension": ".py",
   "mimetype": "text/x-python",
   "name": "python",
   "nbconvert_exporter": "python",
   "pygments_lexer": "ipython3",
   "version": "3.6.5"
  }
 },
 "nbformat": 4,
 "nbformat_minor": 2
}
